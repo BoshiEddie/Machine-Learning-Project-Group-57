{
 "cells": [
  {
   "cell_type": "code",
   "execution_count": null,
   "metadata": {},
   "outputs": [],
   "source": [
    "import pandas as pd\n",
    "\n",
    "df = pd.read_csv('data_original.csv', low_memory=False)\n",
    "\n",
    "# select only the columns we need\n",
    "\n",
    "df = df[[\n",
    "    'age_group',\n",
    "    'death_yn',\n",
    "    'exposure_yn',\n",
    "    'race',\n",
    "    'sex',\n",
    "    'state_fips_code',\n",
    "    'underlying_conditions_yn',\n",
    "]]\n",
    "\n",
    "print('dataset loaded with %d rows' % (df.size))"
   ]
  },
  {
   "cell_type": "code",
   "execution_count": null,
   "metadata": {},
   "outputs": [],
   "source": [
    "# drop unknown or missing rows\n",
    "\n",
    "other_na = ['Unknown', 'Missing']\n",
    "\n",
    "df = df[df.state_fips_code.notna() & ~df.state_fips_code.isin(other_na)]\n",
    "df = df[df.age_group.notna() & ~df.age_group.isin(other_na)]\n",
    "df = df[df.sex.notna() & ~df.sex.isin(other_na)]\n",
    "df = df[df.race.notna() & ~df.race.isin(other_na)]\n",
    "df = df[df.death_yn.notna() & ~df.death_yn.isin(other_na)]\n",
    "df = df[df.underlying_conditions_yn.notna()\n",
    "        & ~df.underlying_conditions_yn.isin(other_na)]\n",
    "\n",
    "print('rows remaining: %d' % (df.size))"
   ]
  },
  {
   "cell_type": "code",
   "execution_count": null,
   "metadata": {},
   "outputs": [],
   "source": [
    "# get categories\n",
    "\n",
    "for col in df.columns:\n",
    "    print('%s: %s' % (col, sorted(df[col].unique())))"
   ]
  },
  {
   "cell_type": "code",
   "execution_count": null,
   "metadata": {},
   "outputs": [],
   "source": [
    "# shuffle, sample and save\n",
    "\n",
    "df_train = df.sample(frac=0.8)\n",
    "df_test = df.drop(df_train.index)\n",
    "\n",
    "df_train.reset_index(drop=True).to_csv('data_train.csv')\n",
    "df_test.reset_index(drop=True).to_csv('data_test.csv')"
   ]
  }
 ],
 "metadata": {
  "interpreter": {
   "hash": "4bd624a0593993fe43ac4046b27b898fb2ef75c21c08f81e89e64ea0f51df676"
  },
  "kernelspec": {
   "display_name": "Python 3.9.7 64-bit ('tensorflow': conda)",
   "language": "python",
   "name": "python3"
  },
  "language_info": {
   "codemirror_mode": {
    "name": "ipython",
    "version": 3
   },
   "file_extension": ".py",
   "mimetype": "text/x-python",
   "name": "python",
   "nbconvert_exporter": "python",
   "pygments_lexer": "ipython3",
   "version": "3.9.7"
  },
  "orig_nbformat": 4
 },
 "nbformat": 4,
 "nbformat_minor": 2
}
