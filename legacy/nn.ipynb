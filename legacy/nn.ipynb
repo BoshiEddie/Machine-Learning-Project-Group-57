{
 "cells": [
  {
   "cell_type": "code",
   "execution_count": 20,
   "metadata": {},
   "outputs": [],
   "source": [
    "import numpy as np\n",
    "import pandas as pd\n",
    "import random\n",
    "import tensorflow as tf\n",
    "from sklearn.metrics import ConfusionMatrixDisplay\n",
    "from sklearn.model_selection import train_test_split\n",
    "from sklearn.preprocessing import OneHotEncoder, OrdinalEncoder\n",
    "from tensorflow.keras.layers import Concatenate, Dense, Dropout, Input, IntegerLookup, Normalization, Reshape, StringLookup\n",
    "from tensorflow.keras.models import Model"
   ]
  },
  {
   "cell_type": "code",
   "execution_count": 21,
   "metadata": {},
   "outputs": [],
   "source": [
    "df_from_csv = pd.read_csv('data.csv',\n",
    "                          chunksize=2048,\n",
    "                          low_memory=False,\n",
    "                          skiprows=lambda i: i > 0 and random.random() > 0.1)\n"
   ]
  },
  {
   "cell_type": "code",
   "execution_count": 22,
   "metadata": {},
   "outputs": [],
   "source": [
    "x_encoder = OneHotEncoder(\n",
    "    categories=[\n",
    "        # age group\n",
    "        ['0 - 17 years', '18 to 49 years', '50 to 64 years', '65+ years'],\n",
    "        # exposure_yn\n",
    "        ['Missing', 'Unknown', 'Yes'],\n",
    "        # race\n",
    "        [\n",
    "            'American Indian/Alaska Native', 'Asian', 'Black',\n",
    "            'Multiple/Other', 'Native Hawaiian/Other Pacific Islander', 'White'\n",
    "        ],\n",
    "        # sex\n",
    "        ['Female', 'Male'],\n",
    "        # state fips code\n",
    "        [*range(1, 79)],\n",
    "        # underlying_conditions_yn\n",
    "        ['No', 'Yes'],\n",
    "    ],\n",
    "    handle_unknown='error',\n",
    ")\n",
    "\n",
    "y_encoder = OrdinalEncoder(\n",
    "    categories=[\n",
    "        ['No', 'Yes'],\n",
    "    ],\n",
    "    handle_unknown='error',\n",
    ")\n",
    "\n",
    "\n",
    "def open_csv_file(filename='data_train.csv', chunksize=2048):\n",
    "    return pd.read_csv(filename,\n",
    "                       chunksize=chunksize,\n",
    "                       low_memory=False,\n",
    "                       skiprows=lambda i: i > 0 and random.random() > 0.1)\n",
    "\n",
    "\n",
    "def read_next_chunk(df):\n",
    "    x = next(df)\n",
    "    x.drop('Unnamed: 0', axis=1, inplace=True)\n",
    "\n",
    "    y = x.pop('death_yn')\n",
    "\n",
    "    x = x_encoder.fit_transform(x)\n",
    "    y = y_encoder.fit_transform(y.values.reshape(-1, 1)).ravel()\n",
    "    return (x, y)\n",
    "\n",
    "\n",
    "n_encoded_features = read_next_chunk(open_csv_file(chunksize=16))[0].shape[1]"
   ]
  },
  {
   "cell_type": "code",
   "execution_count": 23,
   "metadata": {},
   "outputs": [
    {
     "name": "stdout",
     "output_type": "stream",
     "text": [
      "Model: \"model_7\"\n",
      "_________________________________________________________________\n",
      "Layer (type)                 Output Shape              Param #   \n",
      "=================================================================\n",
      "input (InputLayer)           [(None, 95)]              0         \n",
      "_________________________________________________________________\n",
      "dense_14 (Dense)             (None, 32)                3072      \n",
      "_________________________________________________________________\n",
      "dense_15 (Dense)             (None, 32)                1056      \n",
      "_________________________________________________________________\n",
      "dropout_7 (Dropout)          (None, 32)                0         \n",
      "_________________________________________________________________\n",
      "output (Dense)               (None, 1)                 33        \n",
      "=================================================================\n",
      "Total params: 4,161\n",
      "Trainable params: 4,161\n",
      "Non-trainable params: 0\n",
      "_________________________________________________________________\n"
     ]
    }
   ],
   "source": [
    "def build_model():\n",
    "    x = input = Input(dtype='float32',\n",
    "                      name='input',\n",
    "                      shape=(n_encoded_features, ))\n",
    "\n",
    "    x = Dense(32, activation='relu')(x)\n",
    "    x = Dense(32, activation='relu')(x)\n",
    "    x = Dropout(0.5)(x)\n",
    "\n",
    "    output = Dense(1, activation='sigmoid', name='output')(x)\n",
    "\n",
    "    model = Model(input, output)\n",
    "    model.compile('adam', 'mean_squared_error', metrics=['accuracy'])\n",
    "\n",
    "    return model\n",
    "\n",
    "\n",
    "build_model().summary()"
   ]
  },
  {
   "cell_type": "code",
   "execution_count": 24,
   "metadata": {},
   "outputs": [
    {
     "name": "stdout",
     "output_type": "stream",
     "text": [
      "Epoch 1/4\n"
     ]
    },
    {
     "name": "stderr",
     "output_type": "stream",
     "text": [
      "/opt/homebrew/Caskroom/miniforge/base/envs/tensorflow/lib/python3.9/site-packages/tensorflow/python/framework/indexed_slices.py:447: UserWarning: Converting sparse IndexedSlices(IndexedSlices(indices=Tensor(\"gradient_tape/model_8/dense_16/embedding_lookup_sparse/Reshape_1:0\", shape=(None,), dtype=int32), values=Tensor(\"gradient_tape/model_8/dense_16/embedding_lookup_sparse/Reshape:0\", shape=(None, 32), dtype=float32), dense_shape=Tensor(\"gradient_tape/model_8/dense_16/embedding_lookup_sparse/Cast:0\", shape=(2,), dtype=int32))) to a dense Tensor of unknown shape. This may consume a large amount of memory.\n",
      "  warnings.warn(\n",
      "2021-12-06 21:58:40.711413: I tensorflow/core/grappler/optimizers/custom_graph_optimizer_registry.cc:112] Plugin optimizer for device_type GPU is enabled.\n"
     ]
    },
    {
     "name": "stdout",
     "output_type": "stream",
     "text": [
      "103/103 [==============================] - 2s 13ms/step - loss: 0.1010 - accuracy: 0.8947 - val_loss: 0.0546 - val_accuracy: 0.9415\n",
      "Epoch 2/4\n",
      "  1/103 [..............................] - ETA: 1s - loss: 0.0370 - accuracy: 0.9688"
     ]
    },
    {
     "name": "stderr",
     "output_type": "stream",
     "text": [
      "2021-12-06 21:58:41.951709: I tensorflow/core/grappler/optimizers/custom_graph_optimizer_registry.cc:112] Plugin optimizer for device_type GPU is enabled.\n"
     ]
    },
    {
     "name": "stdout",
     "output_type": "stream",
     "text": [
      "103/103 [==============================] - 1s 11ms/step - loss: 0.0427 - accuracy: 0.9576 - val_loss: 0.0547 - val_accuracy: 0.9415\n",
      "Epoch 1/4\n",
      "103/103 [==============================] - 1s 11ms/step - loss: 0.0499 - accuracy: 0.9463 - val_loss: 0.0383 - val_accuracy: 0.9537\n",
      "Epoch 2/4\n",
      "103/103 [==============================] - 1s 11ms/step - loss: 0.0425 - accuracy: 0.9478 - val_loss: 0.0320 - val_accuracy: 0.9561\n",
      "Epoch 3/4\n",
      "103/103 [==============================] - 1s 13ms/step - loss: 0.0367 - accuracy: 0.9554 - val_loss: 0.0308 - val_accuracy: 0.9634\n",
      "Epoch 4/4\n",
      "103/103 [==============================] - 1s 12ms/step - loss: 0.0343 - accuracy: 0.9582 - val_loss: 0.0299 - val_accuracy: 0.9634\n",
      "Epoch 1/4\n",
      "103/103 [==============================] - 1s 11ms/step - loss: 0.0326 - accuracy: 0.9625 - val_loss: 0.0378 - val_accuracy: 0.9500\n",
      "Epoch 2/4\n",
      "103/103 [==============================] - 1s 12ms/step - loss: 0.0315 - accuracy: 0.9640 - val_loss: 0.0371 - val_accuracy: 0.9500\n",
      "Epoch 3/4\n",
      "103/103 [==============================] - 1s 11ms/step - loss: 0.0312 - accuracy: 0.9646 - val_loss: 0.0369 - val_accuracy: 0.9512\n",
      "Epoch 4/4\n",
      "103/103 [==============================] - 1s 11ms/step - loss: 0.0305 - accuracy: 0.9637 - val_loss: 0.0362 - val_accuracy: 0.9512\n",
      "Epoch 1/4\n",
      "103/103 [==============================] - 1s 12ms/step - loss: 0.0305 - accuracy: 0.9621 - val_loss: 0.0276 - val_accuracy: 0.9671\n",
      "Epoch 2/4\n",
      "103/103 [==============================] - 1s 11ms/step - loss: 0.0283 - accuracy: 0.9646 - val_loss: 0.0272 - val_accuracy: 0.9671\n",
      "Epoch 3/4\n",
      "103/103 [==============================] - 1s 12ms/step - loss: 0.0279 - accuracy: 0.9652 - val_loss: 0.0271 - val_accuracy: 0.9646\n",
      "Epoch 4/4\n",
      "103/103 [==============================] - 1s 12ms/step - loss: 0.0283 - accuracy: 0.9652 - val_loss: 0.0273 - val_accuracy: 0.9646\n",
      "Epoch 1/4\n",
      "103/103 [==============================] - 1s 11ms/step - loss: 0.0284 - accuracy: 0.9655 - val_loss: 0.0262 - val_accuracy: 0.9683\n",
      "Epoch 2/4\n",
      "103/103 [==============================] - 1s 12ms/step - loss: 0.0268 - accuracy: 0.9683 - val_loss: 0.0260 - val_accuracy: 0.9671\n",
      "Epoch 3/4\n",
      "103/103 [==============================] - 1s 11ms/step - loss: 0.0272 - accuracy: 0.9667 - val_loss: 0.0260 - val_accuracy: 0.9671\n",
      "Epoch 1/4\n",
      "103/103 [==============================] - 1s 12ms/step - loss: 0.0281 - accuracy: 0.9649 - val_loss: 0.0250 - val_accuracy: 0.9707\n",
      "Epoch 2/4\n",
      "103/103 [==============================] - 1s 11ms/step - loss: 0.0267 - accuracy: 0.9707 - val_loss: 0.0237 - val_accuracy: 0.9671\n",
      "Epoch 3/4\n",
      "103/103 [==============================] - 1s 11ms/step - loss: 0.0261 - accuracy: 0.9686 - val_loss: 0.0243 - val_accuracy: 0.9707\n",
      "Epoch 1/4\n",
      "103/103 [==============================] - 1s 11ms/step - loss: 0.0290 - accuracy: 0.9646 - val_loss: 0.0349 - val_accuracy: 0.9585\n",
      "Epoch 2/4\n",
      "103/103 [==============================] - 1s 12ms/step - loss: 0.0287 - accuracy: 0.9652 - val_loss: 0.0346 - val_accuracy: 0.9585\n",
      "Epoch 3/4\n",
      "103/103 [==============================] - 1s 11ms/step - loss: 0.0277 - accuracy: 0.9673 - val_loss: 0.0354 - val_accuracy: 0.9561\n",
      "Epoch 1/4\n",
      "103/103 [==============================] - 1s 12ms/step - loss: 0.0272 - accuracy: 0.9686 - val_loss: 0.0229 - val_accuracy: 0.9744\n",
      "Epoch 2/4\n",
      "103/103 [==============================] - 1s 11ms/step - loss: 0.0252 - accuracy: 0.9722 - val_loss: 0.0225 - val_accuracy: 0.9744\n",
      "Epoch 3/4\n",
      "103/103 [==============================] - 1s 11ms/step - loss: 0.0248 - accuracy: 0.9701 - val_loss: 0.0228 - val_accuracy: 0.9744\n",
      "Epoch 1/4\n",
      "103/103 [==============================] - 1s 11ms/step - loss: 0.0285 - accuracy: 0.9634 - val_loss: 0.0310 - val_accuracy: 0.9622\n",
      "Epoch 2/4\n",
      "103/103 [==============================] - 1s 11ms/step - loss: 0.0271 - accuracy: 0.9664 - val_loss: 0.0324 - val_accuracy: 0.9610\n",
      "Epoch 1/4\n",
      "103/103 [==============================] - 1s 11ms/step - loss: 0.0285 - accuracy: 0.9679 - val_loss: 0.0191 - val_accuracy: 0.9720\n",
      "Epoch 2/4\n",
      "103/103 [==============================] - 1s 12ms/step - loss: 0.0279 - accuracy: 0.9676 - val_loss: 0.0193 - val_accuracy: 0.9744\n",
      "Epoch 1/4\n",
      "103/103 [==============================] - 1s 11ms/step - loss: 0.0324 - accuracy: 0.9591 - val_loss: 0.0218 - val_accuracy: 0.9720\n",
      "Epoch 2/4\n",
      "103/103 [==============================] - 1s 12ms/step - loss: 0.0324 - accuracy: 0.9618 - val_loss: 0.0224 - val_accuracy: 0.9732\n",
      "Epoch 1/4\n",
      "103/103 [==============================] - 1s 11ms/step - loss: 0.0257 - accuracy: 0.9673 - val_loss: 0.0300 - val_accuracy: 0.9646\n",
      "Epoch 2/4\n",
      "103/103 [==============================] - 1s 12ms/step - loss: 0.0253 - accuracy: 0.9707 - val_loss: 0.0294 - val_accuracy: 0.9659\n",
      "Epoch 3/4\n",
      "103/103 [==============================] - 1s 11ms/step - loss: 0.0249 - accuracy: 0.9695 - val_loss: 0.0297 - val_accuracy: 0.9659\n",
      "Epoch 1/4\n",
      "103/103 [==============================] - 1s 11ms/step - loss: 0.0311 - accuracy: 0.9609 - val_loss: 0.0312 - val_accuracy: 0.9646\n",
      "Epoch 2/4\n",
      "103/103 [==============================] - 1s 11ms/step - loss: 0.0303 - accuracy: 0.9625 - val_loss: 0.0311 - val_accuracy: 0.9646\n",
      "Epoch 3/4\n",
      "103/103 [==============================] - 1s 11ms/step - loss: 0.0304 - accuracy: 0.9628 - val_loss: 0.0313 - val_accuracy: 0.9634\n",
      "Epoch 1/4\n",
      "103/103 [==============================] - 1s 11ms/step - loss: 0.0276 - accuracy: 0.9667 - val_loss: 0.0295 - val_accuracy: 0.9610\n",
      "Epoch 2/4\n",
      "103/103 [==============================] - 1s 11ms/step - loss: 0.0274 - accuracy: 0.9683 - val_loss: 0.0299 - val_accuracy: 0.9598\n",
      "Epoch 1/4\n",
      "103/103 [==============================] - 1s 11ms/step - loss: 0.0224 - accuracy: 0.9734 - val_loss: 0.0216 - val_accuracy: 0.9744\n",
      "Epoch 2/4\n",
      "103/103 [==============================] - 1s 11ms/step - loss: 0.0216 - accuracy: 0.9725 - val_loss: 0.0217 - val_accuracy: 0.9744\n",
      "Epoch 1/4\n",
      "103/103 [==============================] - 1s 11ms/step - loss: 0.0263 - accuracy: 0.9661 - val_loss: 0.0308 - val_accuracy: 0.9610\n",
      "Epoch 2/4\n",
      "103/103 [==============================] - 1s 11ms/step - loss: 0.0255 - accuracy: 0.9689 - val_loss: 0.0313 - val_accuracy: 0.9598\n",
      "Epoch 1/4\n",
      "103/103 [==============================] - 1s 11ms/step - loss: 0.0315 - accuracy: 0.9588 - val_loss: 0.0307 - val_accuracy: 0.9659\n",
      "Epoch 2/4\n",
      "103/103 [==============================] - 1s 11ms/step - loss: 0.0308 - accuracy: 0.9606 - val_loss: 0.0306 - val_accuracy: 0.9646\n",
      "Epoch 3/4\n",
      "103/103 [==============================] - 1s 11ms/step - loss: 0.0311 - accuracy: 0.9606 - val_loss: 0.0309 - val_accuracy: 0.9646\n",
      "Epoch 1/4\n",
      "103/103 [==============================] - 1s 11ms/step - loss: 0.0274 - accuracy: 0.9673 - val_loss: 0.0320 - val_accuracy: 0.9646\n",
      "Epoch 2/4\n",
      "103/103 [==============================] - 1s 11ms/step - loss: 0.0280 - accuracy: 0.9649 - val_loss: 0.0320 - val_accuracy: 0.9634\n",
      "Epoch 3/4\n",
      "103/103 [==============================] - 1s 11ms/step - loss: 0.0273 - accuracy: 0.9655 - val_loss: 0.0317 - val_accuracy: 0.9646\n",
      "Epoch 4/4\n",
      "103/103 [==============================] - 1s 11ms/step - loss: 0.0272 - accuracy: 0.9664 - val_loss: 0.0317 - val_accuracy: 0.9634\n",
      "Epoch 1/4\n",
      "103/103 [==============================] - 1s 11ms/step - loss: 0.0294 - accuracy: 0.9649 - val_loss: 0.0294 - val_accuracy: 0.9646\n",
      "Epoch 2/4\n",
      "103/103 [==============================] - 1s 11ms/step - loss: 0.0282 - accuracy: 0.9679 - val_loss: 0.0300 - val_accuracy: 0.9585\n",
      "Epoch 1/4\n",
      "103/103 [==============================] - 1s 11ms/step - loss: 0.0294 - accuracy: 0.9643 - val_loss: 0.0237 - val_accuracy: 0.9695\n",
      "Epoch 2/4\n",
      "103/103 [==============================] - 1s 12ms/step - loss: 0.0303 - accuracy: 0.9628 - val_loss: 0.0234 - val_accuracy: 0.9707\n",
      "Epoch 3/4\n",
      "103/103 [==============================] - 1s 11ms/step - loss: 0.0298 - accuracy: 0.9618 - val_loss: 0.0234 - val_accuracy: 0.9707\n",
      "Epoch 4/4\n",
      "103/103 [==============================] - 1s 11ms/step - loss: 0.0285 - accuracy: 0.9637 - val_loss: 0.0236 - val_accuracy: 0.9707\n",
      "Epoch 1/4\n",
      "103/103 [==============================] - 1s 11ms/step - loss: 0.0294 - accuracy: 0.9640 - val_loss: 0.0266 - val_accuracy: 0.9634\n",
      "Epoch 2/4\n",
      "103/103 [==============================] - 1s 11ms/step - loss: 0.0284 - accuracy: 0.9658 - val_loss: 0.0266 - val_accuracy: 0.9671\n",
      "Epoch 1/4\n",
      "103/103 [==============================] - 1s 11ms/step - loss: 0.0274 - accuracy: 0.9655 - val_loss: 0.0187 - val_accuracy: 0.9744\n",
      "Epoch 2/4\n",
      "103/103 [==============================] - 1s 12ms/step - loss: 0.0268 - accuracy: 0.9670 - val_loss: 0.0186 - val_accuracy: 0.9780\n",
      "Epoch 3/4\n",
      "103/103 [==============================] - 1s 13ms/step - loss: 0.0260 - accuracy: 0.9683 - val_loss: 0.0187 - val_accuracy: 0.9780\n",
      "Epoch 1/4\n",
      "36/36 [==============================] - 1s 16ms/step - loss: 0.0358 - accuracy: 0.9563 - val_loss: 0.0265 - val_accuracy: 0.9680\n",
      "Epoch 2/4\n",
      "36/36 [==============================] - 0s 12ms/step - loss: 0.0345 - accuracy: 0.9563 - val_loss: 0.0255 - val_accuracy: 0.9680\n",
      "Epoch 3/4\n",
      "36/36 [==============================] - 0s 12ms/step - loss: 0.0333 - accuracy: 0.9572 - val_loss: 0.0247 - val_accuracy: 0.9680\n",
      "Epoch 4/4\n",
      "36/36 [==============================] - 0s 13ms/step - loss: 0.0328 - accuracy: 0.9599 - val_loss: 0.0239 - val_accuracy: 0.9680\n"
     ]
    }
   ],
   "source": [
    "def train():\n",
    "    df = open_csv_file(chunksize=4096)\n",
    "    model = build_model()\n",
    "\n",
    "    try:\n",
    "        while True:\n",
    "            x, y = read_next_chunk(df)\n",
    "            x, x_valid, y, y_valid = train_test_split(x, y, test_size=0.2)\n",
    "\n",
    "            model.fit(\n",
    "                x,\n",
    "                y,\n",
    "                callbacks=[\n",
    "                    tf.keras.callbacks.EarlyStopping(monitor='val_loss',\n",
    "                                                     patience=1),\n",
    "                ],\n",
    "                epochs=4,\n",
    "                validation_data=(x_valid, y_valid),\n",
    "            )\n",
    "    except StopIteration:\n",
    "        pass\n",
    "\n",
    "    return model\n",
    "\n",
    "\n",
    "trained_model = train()\n"
   ]
  },
  {
   "cell_type": "code",
   "execution_count": 25,
   "metadata": {},
   "outputs": [
    {
     "name": "stderr",
     "output_type": "stream",
     "text": [
      "2021-12-06 21:59:55.750050: I tensorflow/core/grappler/optimizers/custom_graph_optimizer_registry.cc:112] Plugin optimizer for device_type GPU is enabled.\n"
     ]
    },
    {
     "data": {
      "image/png": "[encoded data removed]",
      "text/plain": [
       "<Figure size 432x288 with 2 Axes>"
      ]
     },
     "metadata": {
      "needs_background": "light"
     },
     "output_type": "display_data"
    },
    {
     "data": {
      "image/png": "[encoded data removed]",
      "text/plain": [
       "<Figure size 432x288 with 2 Axes>"
      ]
     },
     "metadata": {
      "needs_background": "light"
     },
     "output_type": "display_data"
    }
   ],
   "source": [
    "def benchmark(model):\n",
    "    df = open_csv_file(filename='data_test.csv', chunksize=16384)\n",
    "    x, y_true = read_next_chunk(df)\n",
    "\n",
    "    y_pred = model.predict(x)\n",
    "    y_pred = np.rint(y_pred)\n",
    "\n",
    "    ConfusionMatrixDisplay.from_predictions(y_true, y_pred).plot()\n",
    "\n",
    "\n",
    "benchmark(trained_model)"
   ]
  }
 ],
 "metadata": {
  "interpreter": {
   "hash": "4bd624a0593993fe43ac4046b27b898fb2ef75c21c08f81e89e64ea0f51df676"
  },
  "kernelspec": {
   "display_name": "Python 3.9.7 64-bit ('tensorflow': conda)",
   "language": "python",
   "name": "python3"
  },
  "language_info": {
   "codemirror_mode": {
    "name": "ipython",
    "version": 3
   },
   "file_extension": ".py",
   "mimetype": "text/x-python",
   "name": "python",
   "nbconvert_exporter": "python",
   "pygments_lexer": "ipython3",
   "version": "3.9.7"
  },
  "orig_nbformat": 4
 },
 "nbformat": 4,
 "nbformat_minor": 2
}
